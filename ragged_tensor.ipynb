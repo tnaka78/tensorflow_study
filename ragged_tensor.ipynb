{
  "nbformat": 4,
  "nbformat_minor": 0,
  "metadata": {
    "colab": {
      "name": "ragged_tensor.ipynb",
      "version": "0.3.2",
      "provenance": [],
      "collapsed_sections": [],
      "include_colab_link": true
    },
    "kernelspec": {
      "name": "python3",
      "display_name": "Python 3"
    }
  },
  "cells": [
    {
      "cell_type": "markdown",
      "metadata": {
        "id": "view-in-github",
        "colab_type": "text"
      },
      "source": [
        "<a href=\"https://colab.research.google.com/github/tnaka78/tensorflow_study/blob/master/ragged_tensor.ipynb\" target=\"_parent\"><img src=\"https://colab.research.google.com/assets/colab-badge.svg\" alt=\"Open In Colab\"/></a>"
      ]
    },
    {
      "cell_type": "markdown",
      "metadata": {
        "id": "GYrk_o0Y0pd7",
        "colab_type": "text"
      },
      "source": [
        "# Ragged Tensors\n",
        "Reference: https://www.tensorflow.org/guide/ragged_tensors"
      ]
    },
    {
      "cell_type": "code",
      "metadata": {
        "id": "N_V-dVXkvDDq",
        "colab_type": "code",
        "colab": {}
      },
      "source": [
        "import tensorflow as tf\n",
        "import numpy as np"
      ],
      "execution_count": 0,
      "outputs": []
    },
    {
      "cell_type": "code",
      "metadata": {
        "id": "DaXyEziovJxI",
        "colab_type": "code",
        "outputId": "968ca61e-6ccb-43fe-cafe-d97d6bb6eea0",
        "colab": {
          "base_uri": "https://localhost:8080/",
          "height": 52
        }
      },
      "source": [
        "sentences = [\n",
        "    [4, 1, 2],\n",
        "    [5],\n",
        "    [0, 3]\n",
        "]\n",
        "\n",
        "# Flatten sentences into a 1-D array.\n",
        "words = [word for sentence in sentences for word in sentence]\n",
        "print(\"Flatten words: \", words)\n",
        "\n",
        "# Count words of each sentences.\n",
        "lengths = [len(sentence) for sentence in sentences]\n",
        "print(\"Word lengths: \", lengths)"
      ],
      "execution_count": 0,
      "outputs": [
        {
          "output_type": "stream",
          "text": [
            "Flatten words:  [4, 1, 2, 5, 0, 3]\n",
            "Word lengths:  [3, 1, 2]\n"
          ],
          "name": "stdout"
        }
      ]
    },
    {
      "cell_type": "code",
      "metadata": {
        "id": "p3LiSAC3y6fa",
        "colab_type": "code",
        "colab": {}
      },
      "source": [
        "# Define word embeddings.\n",
        "embeddings = tf.constant([\n",
        "    [0.1, 0.2, 0.3],\n",
        "    [1.1, 1.2, 1.3],\n",
        "    [2.1, 2.2, 2.3],\n",
        "    [3.1, 3.2, 3.3],\n",
        "    [4.1, 4.2, 4.3],\n",
        "    [5.1, 5.2, 5.3]\n",
        "])"
      ],
      "execution_count": 0,
      "outputs": []
    },
    {
      "cell_type": "code",
      "metadata": {
        "id": "ZdKrwj9vv47p",
        "colab_type": "code",
        "outputId": "c5579d5b-d547-4852-8175-f4c84e58981a",
        "colab": {
          "base_uri": "https://localhost:8080/",
          "height": 107
        }
      },
      "source": [
        "# Build a model (calculate average embedding for each sentence).\n",
        "words_input = tf.placeholder(tf.int64, [None])\n",
        "lengths_input = tf.placeholder(tf.int64, [None])\n",
        "sentences_tensor = tf.RaggedTensor.from_row_lengths(words_input, lengths_input)\n",
        "word_embeddings = tf.ragged.map_flat_values(tf.nn.embedding_lookup, embeddings, sentences_tensor)\n",
        "word_averages = tf.reduce_mean(word_embeddings, axis=1)"
      ],
      "execution_count": 0,
      "outputs": [
        {
          "output_type": "stream",
          "text": [
            "WARNING: Logging before flag parsing goes to stderr.\n",
            "W0629 15:22:57.719590 140382551099264 deprecation.py:323] From /usr/local/lib/python3.6/dist-packages/tensorflow/python/ops/array_ops.py:1354: add_dispatch_support.<locals>.wrapper (from tensorflow.python.ops.array_ops) is deprecated and will be removed in a future version.\n",
            "Instructions for updating:\n",
            "Use tf.where in 2.0, which has the same broadcast rule as np.where\n"
          ],
          "name": "stderr"
        }
      ]
    },
    {
      "cell_type": "code",
      "metadata": {
        "id": "o-ly74gAybD_",
        "colab_type": "code",
        "outputId": "16671764-b668-431c-8c35-2212494b2598",
        "colab": {
          "base_uri": "https://localhost:8080/",
          "height": 70
        }
      },
      "source": [
        "# Run the model\n",
        "sess = tf.Session()\n",
        "sess.run(word_averages, feed_dict={words_input: words, lengths_input: lengths})"
      ],
      "execution_count": 0,
      "outputs": [
        {
          "output_type": "execute_result",
          "data": {
            "text/plain": [
              "array([[2.4333332, 2.533333 , 2.6333334],\n",
              "       [5.1      , 5.2      , 5.3      ],\n",
              "       [1.5999999, 1.7      , 1.8      ]], dtype=float32)"
            ]
          },
          "metadata": {
            "tags": []
          },
          "execution_count": 5
        }
      ]
    }
  ]
}